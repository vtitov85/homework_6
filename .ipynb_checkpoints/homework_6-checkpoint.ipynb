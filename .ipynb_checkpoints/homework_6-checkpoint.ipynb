{
 "cells": [
  {
   "cell_type": "code",
   "execution_count": 1,
   "metadata": {},
   "outputs": [],
   "source": [
    "# Dependencies and Setup\n",
    "import matplotlib.pyplot as plt\n",
    "import pandas as pd\n",
    "import numpy as np\n",
    "import requests\n",
    "import time"
   ]
  },
  {
   "cell_type": "code",
   "execution_count": 2,
   "metadata": {},
   "outputs": [],
   "source": [
    "# Import API key\n",
    "from config import api_key_weather"
   ]
  },
  {
   "cell_type": "code",
   "execution_count": 3,
   "metadata": {},
   "outputs": [],
   "source": [
    "from citipy import citipy"
   ]
  },
  {
   "cell_type": "code",
   "execution_count": 4,
   "metadata": {},
   "outputs": [],
   "source": [
    "# Output File (CSV)\n",
    "output_data_file = \"output_data/cities.csv\""
   ]
  },
  {
   "cell_type": "code",
   "execution_count": 5,
   "metadata": {},
   "outputs": [],
   "source": [
    "# Range of latitudes and longitudes\n",
    "lat_range = (-90, 90)\n",
    "lng_range = (-180, 180)"
   ]
  },
  {
   "cell_type": "code",
   "execution_count": 6,
   "metadata": {},
   "outputs": [],
   "source": [
    " # List for holding lat_lngs and cities\n",
    "lat_lngs = []\n",
    "cities = []\n",
    "units = \"metric\""
   ]
  },
  {
   "cell_type": "code",
   "execution_count": 7,
   "metadata": {},
   "outputs": [],
   "source": [
    "# Create a set of random lat and lng combinations\n",
    "lats = np.random.uniform(low=-90.000, high=90.000, size=1500)\n",
    "lngs = np.random.uniform(low=-180.000, high=180.000, size=1500)\n",
    "lat_lngs = zip(lats, lngs)"
   ]
  },
  {
   "cell_type": "code",
   "execution_count": 8,
   "metadata": {},
   "outputs": [],
   "source": [
    "# Identify nearest city for each lat, lng combination\n",
    "for lat_lng in lat_lngs:\n",
    "    city = citipy.nearest_city(lat_lng[0], lat_lng[1]).city_name\n",
    "    \n",
    "    # If the city is unique, then add it to a our cities list\n",
    "    if city not in cities:\n",
    "        cities.append(city)"
   ]
  },
  {
   "cell_type": "code",
   "execution_count": 9,
   "metadata": {},
   "outputs": [
    {
     "data": {
      "text/plain": [
       "633"
      ]
     },
     "execution_count": 9,
     "metadata": {},
     "output_type": "execute_result"
    }
   ],
   "source": [
    "# Print the city count to confirm sufficient count\n",
    "len(cities)"
   ]
  },
  {
   "cell_type": "code",
   "execution_count": 10,
   "metadata": {},
   "outputs": [],
   "source": [
    "url = \"http://api.openweathermap.org/data/2.5/weather?\""
   ]
  },
  {
   "cell_type": "code",
   "execution_count": 11,
   "metadata": {},
   "outputs": [
    {
     "name": "stdout",
     "output_type": "stream",
     "text": [
      "['zhanaozen', 'san jose', 'ambilobe', 'albany', 'saint george', 'hasaki', 'taolanaro', 'ipixuna', 'rikitea', 'bubaque', 'goba', 'dikson', 'samusu', 'belushya guba', 'mataura', 'anadyr', 'ribeira grande', 'grindavik', 'cherskiy', 'mitu', 'yellowknife', 'hermanus', 'kudahuvadhoo', 'coquimbo', 'punta arenas', 'saint-philippe', 'iqaluit', 'ushuaia', 'bayan', 'puerto madero', 'zabaykalsk', 'bonthe', 'busselton', 'loikaw', 'javanrud', 'vila velha', 'hilo', 'sainte-anne-des-monts', 'xinqing', 'saskylakh', 'vaini', 'leningradskiy', 'manakara', 'bredasdorp', 'dzilam gonzalez', 'butaritari', 'cape town', 'sri aman', 'klaksvik', 'mopti', 'barawe', 'tiksi', 'serra talhada', 'bluff', 'torbay', 'jamestown', 'kapaa', 'port lincoln', 'atuona', 'dawlatabad', 'nchelenge', 'udachnyy', 'oranjestad', 'the valley', 'hofn', 'san rafael', 'vilcun', 'luderitz', 'qaanaaq', 'tura', 'half moon bay', 'barbar', 'inyonga', 'halifax', 'east london', 'talnakh', 'alofi', 'punta de bombon', 'saint-ambroise', 'opuwo', 'fortuna', 'lorengau', 'tasiilaq', 'hithadhoo', 'norman wells', 'kegayli', 'attawapiskat', 'teahupoo', 'kyra', 'barentsburg', 'arroyo', 'port hawkesbury', 'road town', 'pontes e lacerda', 'ibate', 'puerto ayora', 'dauriya', 'mar del plata', 'santarem', 'hervey bay', 'alexandria', 'provideniya', 'kodiak', 'waycross', 'upernavik', 'arraial do cabo', 'vila franca do campo', 'hobart', 'vaitape', 'cairns', 'svetlogorsk', 'farah', 'margate', 'port alfred', 'khatanga', 'chiredzi', 'pacific grove', 'nikolskoye', 'illoqqortoormiut', 'richards bay', 'salekhard', 'huadian', 'barrow', 'limon', 'codrington', 'tyumentsevo', 'antofagasta', 'hambantota', 'esperance', 'saint-leu', 'vao', 'fare', 'beringovskiy', 'chuy', 'castro', 'broome', 'thompson', 'victoria', 'el alto', 'saldanha', 'lompoc', 'rabo de peixe', 'tadine', 'faanui', 'colon', 'pevek', 'salalah', 'bogorodskoye', 'chokurdakh', 'tuktoyaktuk', 'fairbanks', 'porto novo', 'la sarre', 'chagda', 'ibotirama', 'kaitangata', 'mahebourg', 'sukpak', 'amderma', 'georgetown', 'stokmarknes', 'camapua', 'mana', 'shingu', 'kavaratti', 'gorno-chuyskiy', 'quatre cocos', 'rongcheng', 'alice springs', 'nanortalik', 'sitka', 'severo-kurilsk', 'tsihombe', 'baracoa', 'thinadhoo', 'teguise', 'boyle', 'zabol', 'tiarei', 'ostrovnoy', 'mafinga', 'acapulco', 'kupang', 'qiqihar', 'lodwar', 'katsuura', 'avarua', 'oranjemund', 'bambous virieux', 'haibowan', 'diamantino', 'bongandanga', 'chom bung', 'krasnorechenskiy', 'parabel', 'liverpool', 'macea', 'kurilsk', 'geraldton', 'catuday', 'kapra', 'awjilah', 'lavrentiya', 'yenagoa', 'bonavista', 'comodoro rivadavia', 'champasak', 'aklavik', 'mount isa', 'san juan', 'givors', 'general teran', 'coihaique', 'naze', 'huazolotitlan', 'llanes', 'rawlins', 'narsaq', 'tighina', 'ucluelet', 'lawrence', 'huarmey', 'lagoa', 'conway', 'carnarvon', 'jalu', 'ponta delgada', 'kavieng', 'qaqortoq', 'verkhoyansk', 'cabo san lucas', 'vallenar', 'mundo nuevo', 'lexington', 'toliary', 'umm kaddadah', 'hachinohe', 'brodokalmak', 'prudentopolis', 'polunochnoye', 'tuatapere', 'manadhoo', 'collecchio', 'maniitsoq', 'bulgan', 'noumea', 'ancud', 'itarema', 'sobinka', 'tongchuan', 'williams lake', 'ahuimanu', 'kuche', 'varhaug', 'coahuayana', 'rundu', 'pisco', 'tumannyy', 'jadu', 'sorvag', 'abaza', 'freeport', 'port blair', 'inta', 'muscatine', 'springdale', 'wakkanai', 'longyearbyen', 'skagastrond', 'funadhoo', 'port-cartier', 'hamilton', 'salinopolis', 'lebu', 'warqla', 'babanusah', 'tucuma', 'tarata', 'talara', 'chifeng', 'souillac', 'ust-kamchatsk', 'umm lajj', 'senneterre', 'sentyabrskiy', 'amravati', 'bengkulu', 'alimpesti', 'qasigiannguit', 'clyde river', 'ajdabiya', 'acajutla', 'eureka', 'kushiro', 'kula', 'lingao', 'riyadh', 'praia da vitoria', 'boyuibe', 'umzimvubu', 'aransas pass', 'magadan', 'havre-saint-pierre', 'myaundzha', 'las vigas', 'kuryk', 'gardez', 'oktyabrskiy', 'sao felix do xingu', 'tamandare', 'rio grande', 'asau', 'macamic', 'mendahara', 'vanimo', 'kharabali', 'meyungs', 'husavik', 'rio gallegos', 'port elizabeth', 'sabha', 'cidreira', 'aksarka', 'daru', 'nuuk', 'taburi', 'ahipara', 'lynchburg', 'boundiali', 'tenenkou', 'new norfolk', 'zalantun', 'ptuj', 'kariba', 'ust-tsilma', 'yar-sale', 'andernach', 'ust-kuyga', 'poum', 'harper', 'peniche', 'ninotsminda', 'bhigvan', 'khomeynishahr', 'namatanai', 'taltal', 'troitsko-pechorsk', 'cintalapa', 'nhamunda', 'kamenka', 'auki', 'okhotsk', 'senador jose porfirio', 'masallatah', 'gejiu', 'san jeronimo', 'mayumba', 'lahij', 'napier', 'san cristobal', 'kulhudhuffushi', 'shar', 'karatuzskoye', 'talwara', 'minot', 'isangel', 'college', 'ballina', 'nizhneyansk', 'sola', 'beboto', 'sakakah', 'saint-francois', 'zumarraga', 'mys shmidta', 'morehead', 'chimore', 'nam tha', 'andros town', 'faya', 'mangochi', 'pedernales', 'zeerust', 'srednekolymsk', 'abrau-dyurso', 'palenque', 'matagami', 'lazaro cardenas', 'manggar', 'bethel', 'ahmadpur east', 'garwa', 'leh', 'galiwinku', 'obo', 'rawson', 'mizan teferi', 'simao', 'tuggurt', 'calama', 'dinsor', 'potsdam', 'dunedin', 'vestmannaeyjar', 'macaboboni', 'carutapera', 'kruisfontein', 'atambua', 'akcakoca', 'stepnyak', 'eyl', 'chongwe', 'palmer', 'karlstad', 'saleaula', 'pochutla', 'jabiru', 'marigot', 'camana', 'ibra', 'sao joao da barra', 'goderich', 'kaniama', 'nizhniy tsasuchey', 'saint anthony', 'manaure', 'nanchang', 'montecristi', 'biskamzha', 'staszow', 'kamaishi', 'high level', 'mayo', 'rock sound', 'hurghada', 'la spezia', 'ponta do sol', 'yerbogachen', 'beisfjord', 'westport', 'labutta', 'muros', 'ulaangom', 'touros', 'petrinja', 'shimanovsk', 'yanan', 'bilibino', 'terney', 'lata', 'dong hoi', 'petropavlovsk-kamchatskiy', 'grajau', 'muli', 'banjar', 'tual', 'raudeberg', 'khani', 'gari', 'nanning', 'palabuhanratu', 'nouadhibou', 'caravelas', 'amapa', 'vardo', 'san lawrenz', 'vaitupu', 'bathsheba', 'bjerkvik', 'san quintin', 'kericho', 'phon', 'krasnyy kut', 'florence', 'trairi', 'hobyo', 'namibe', 'mehamn', 'perbaungan', 'milkovo', 'peace river', 'zyryanka', 'gueret', 'rawannawi', 'samfya', 'solovetskiy', 'gewane', 'nyurba', 'adrar', 'vetlanda', 'pringsewu', 'kindersley', 'tabiauea', 'murashi', 'salym', 'sao filipe', 'pahrump', 'goya', 'suba', 'yuzhou', 'sambava', 'jatiroto', 'jijiga', 'ciras', 'sheregesh', 'constantine', 'estelle', 'killybegs', 'kanigoro', 'canto do buriti', 'arman', 'pozo colorado', 'salina cruz', 'sembakung', 'neiafu', 'chimbote', 'louisbourg', 'cumra', 'portland', 'dibombari', 'molchanovo', 'airai', 'tilichiki', 'kupino', 'zaoyang', 'erzin', 'olhao', 'parrita', 'gotsu', 'ayagoz', 'zhigansk', 'smyshlyayevka', 'urumqi', 'hami', 'waingapu', 'turukhansk', 'ruatoria', 'wattegama', 'santa cruz', 'dingle', 'ilulissat', 'san patricio', 'ondjiva', 'aykhal', 'krasnokamensk', 'shelburne', 'machaneng', 'langarud', 'alugan', 'necochea', 'lyndon', 'gloversville', 'tianpeng', 'lolua', 'grand river south east', 'hualmay', 'kaohsiung', 'ketchikan', 'los llanos de aridane', 'churapcha', 'ternate', 'karoi', 'kovdor', 'siilinjarvi', 'dongsheng', 'goundam', 'yamunanagar', 'ust-nera', 'kirakira', 'hastings', 'aguimes', 'berlevag', 'pailon', 'russell', 'red bluff', 'guerrero negro', 'pervomayskiy', 'paamiut', 'tezu', 'san vicente de canete', 'guilin', 'benjamin aceval', 'pemangkat', 'te anau', 'cascais', 'grandview', 'buqayq', 'kandiari', 'temaraia', 'prince rupert', 'sobolevo', 'rio cuarto', 'flin flon', 'rexburg', 'qandahar', 'pervoye maya', 'dolbeau', 'bam', 'praia', 'trincomalee', 'talcahuano', 'agua verde', 'vastervik', 'sulangan', 'kainantu', 'ngunguru', 'taboga', 'nevelsk', 'sudzha', 'nianzishan', 'dali', 'taoudenni', 'uyovu', 'mrirt', 'kinablangan', 'constitucion', 'ginir', 'bayshore gardens', 'mastic', 'cervo', 'baykit', 'ulladulla', 'yilan', 'sept-iles', 'cap malheureux', 'zyryanovsk', 'komsomolskiy', 'deputatskiy', 'smithers', 'surab', 'batagay-alyta', 'yuanping', 'novyy urengoy']\n"
     ]
    }
   ],
   "source": [
    "print (cities)"
   ]
  },
  {
   "cell_type": "code",
   "execution_count": 12,
   "metadata": {},
   "outputs": [
    {
     "data": {
      "text/html": [
       "<div>\n",
       "<style scoped>\n",
       "    .dataframe tbody tr th:only-of-type {\n",
       "        vertical-align: middle;\n",
       "    }\n",
       "\n",
       "    .dataframe tbody tr th {\n",
       "        vertical-align: top;\n",
       "    }\n",
       "\n",
       "    .dataframe thead th {\n",
       "        text-align: right;\n",
       "    }\n",
       "</style>\n",
       "<table border=\"1\" class=\"dataframe\">\n",
       "  <thead>\n",
       "    <tr style=\"text-align: right;\">\n",
       "      <th></th>\n",
       "      <th>0</th>\n",
       "    </tr>\n",
       "  </thead>\n",
       "  <tbody>\n",
       "    <tr>\n",
       "      <th>0</th>\n",
       "      <td>zhanaozen</td>\n",
       "    </tr>\n",
       "    <tr>\n",
       "      <th>1</th>\n",
       "      <td>san jose</td>\n",
       "    </tr>\n",
       "    <tr>\n",
       "      <th>2</th>\n",
       "      <td>ambilobe</td>\n",
       "    </tr>\n",
       "    <tr>\n",
       "      <th>3</th>\n",
       "      <td>albany</td>\n",
       "    </tr>\n",
       "    <tr>\n",
       "      <th>4</th>\n",
       "      <td>saint george</td>\n",
       "    </tr>\n",
       "  </tbody>\n",
       "</table>\n",
       "</div>"
      ],
      "text/plain": [
       "              0\n",
       "0     zhanaozen\n",
       "1      san jose\n",
       "2      ambilobe\n",
       "3        albany\n",
       "4  saint george"
      ]
     },
     "execution_count": 12,
     "metadata": {},
     "output_type": "execute_result"
    }
   ],
   "source": [
    "df = pd.DataFrame(cities)\n",
    "df.head()"
   ]
  },
  {
   "cell_type": "code",
   "execution_count": 13,
   "metadata": {},
   "outputs": [
    {
     "data": {
      "text/html": [
       "<div>\n",
       "<style scoped>\n",
       "    .dataframe tbody tr th:only-of-type {\n",
       "        vertical-align: middle;\n",
       "    }\n",
       "\n",
       "    .dataframe tbody tr th {\n",
       "        vertical-align: top;\n",
       "    }\n",
       "\n",
       "    .dataframe thead th {\n",
       "        text-align: right;\n",
       "    }\n",
       "</style>\n",
       "<table border=\"1\" class=\"dataframe\">\n",
       "  <thead>\n",
       "    <tr style=\"text-align: right;\">\n",
       "      <th></th>\n",
       "      <th>0</th>\n",
       "      <th>Cloudiness</th>\n",
       "      <th>Country</th>\n",
       "      <th>Date</th>\n",
       "      <th>Humidity</th>\n",
       "      <th>Lat</th>\n",
       "      <th>Lng</th>\n",
       "      <th>Max Temp</th>\n",
       "      <th>Wind Speed</th>\n",
       "    </tr>\n",
       "  </thead>\n",
       "  <tbody>\n",
       "    <tr>\n",
       "      <th>0</th>\n",
       "      <td>zhanaozen</td>\n",
       "      <td></td>\n",
       "      <td></td>\n",
       "      <td></td>\n",
       "      <td></td>\n",
       "      <td></td>\n",
       "      <td></td>\n",
       "      <td></td>\n",
       "      <td></td>\n",
       "    </tr>\n",
       "    <tr>\n",
       "      <th>1</th>\n",
       "      <td>san jose</td>\n",
       "      <td></td>\n",
       "      <td></td>\n",
       "      <td></td>\n",
       "      <td></td>\n",
       "      <td></td>\n",
       "      <td></td>\n",
       "      <td></td>\n",
       "      <td></td>\n",
       "    </tr>\n",
       "    <tr>\n",
       "      <th>2</th>\n",
       "      <td>ambilobe</td>\n",
       "      <td></td>\n",
       "      <td></td>\n",
       "      <td></td>\n",
       "      <td></td>\n",
       "      <td></td>\n",
       "      <td></td>\n",
       "      <td></td>\n",
       "      <td></td>\n",
       "    </tr>\n",
       "    <tr>\n",
       "      <th>3</th>\n",
       "      <td>albany</td>\n",
       "      <td></td>\n",
       "      <td></td>\n",
       "      <td></td>\n",
       "      <td></td>\n",
       "      <td></td>\n",
       "      <td></td>\n",
       "      <td></td>\n",
       "      <td></td>\n",
       "    </tr>\n",
       "    <tr>\n",
       "      <th>4</th>\n",
       "      <td>saint george</td>\n",
       "      <td></td>\n",
       "      <td></td>\n",
       "      <td></td>\n",
       "      <td></td>\n",
       "      <td></td>\n",
       "      <td></td>\n",
       "      <td></td>\n",
       "      <td></td>\n",
       "    </tr>\n",
       "  </tbody>\n",
       "</table>\n",
       "</div>"
      ],
      "text/plain": [
       "              0 Cloudiness Country Date Humidity Lat Lng Max Temp Wind Speed\n",
       "0     zhanaozen                                                             \n",
       "1      san jose                                                             \n",
       "2      ambilobe                                                             \n",
       "3        albany                                                             \n",
       "4  saint george                                                             "
      ]
     },
     "execution_count": 13,
     "metadata": {},
     "output_type": "execute_result"
    }
   ],
   "source": [
    "df[\"Cloudiness\"] = \"\"\n",
    "df[\"Country\"] = \"\"\n",
    "df[\"Date\"] = \"\"\n",
    "df[\"Humidity\"] = \"\"\n",
    "df[\"Lat\"] = \"\"\n",
    "df[\"Lng\"] = \"\"\n",
    "df[\"Max Temp\"] = \"\"\n",
    "df[\"Wind Speed\"] = \"\"\n",
    "df.head()"
   ]
  },
  {
   "cell_type": "code",
   "execution_count": 14,
   "metadata": {},
   "outputs": [],
   "source": [
    "# create a params dict that will be updated with new city each iteration\n",
    "params = {\"key\": api_key_weather}"
   ]
  },
  {
   "cell_type": "code",
   "execution_count": 15,
   "metadata": {},
   "outputs": [
    {
     "name": "stdout",
     "output_type": "stream",
     "text": [
      "Missing field/result... skipping.\n",
      "Missing field/result... skipping.\n",
      "Missing field/result... skipping.\n",
      "Missing field/result... skipping.\n",
      "Missing field/result... skipping.\n",
      "Missing field/result... skipping.\n",
      "Missing field/result... skipping.\n",
      "Missing field/result... skipping.\n",
      "Missing field/result... skipping.\n",
      "Missing field/result... skipping.\n",
      "Missing field/result... skipping.\n",
      "Missing field/result... skipping.\n",
      "Missing field/result... skipping.\n",
      "Missing field/result... skipping.\n",
      "Missing field/result... skipping.\n",
      "Missing field/result... skipping.\n",
      "Missing field/result... skipping.\n",
      "Missing field/result... skipping.\n",
      "Missing field/result... skipping.\n",
      "Missing field/result... skipping.\n",
      "Missing field/result... skipping.\n",
      "Missing field/result... skipping.\n",
      "Missing field/result... skipping.\n",
      "Missing field/result... skipping.\n",
      "Missing field/result... skipping.\n",
      "Missing field/result... skipping.\n",
      "Missing field/result... skipping.\n",
      "Missing field/result... skipping.\n",
      "Missing field/result... skipping.\n",
      "Missing field/result... skipping.\n",
      "Missing field/result... skipping.\n",
      "Missing field/result... skipping.\n",
      "Missing field/result... skipping.\n",
      "Missing field/result... skipping.\n",
      "Missing field/result... skipping.\n",
      "Missing field/result... skipping.\n",
      "Missing field/result... skipping.\n",
      "Missing field/result... skipping.\n",
      "Missing field/result... skipping.\n",
      "Missing field/result... skipping.\n",
      "Missing field/result... skipping.\n",
      "Missing field/result... skipping.\n",
      "Missing field/result... skipping.\n",
      "Missing field/result... skipping.\n",
      "Missing field/result... skipping.\n",
      "Missing field/result... skipping.\n",
      "Missing field/result... skipping.\n",
      "Missing field/result... skipping.\n",
      "Missing field/result... skipping.\n",
      "Missing field/result... skipping.\n",
      "Missing field/result... skipping.\n",
      "Missing field/result... skipping.\n",
      "Missing field/result... skipping.\n",
      "Missing field/result... skipping.\n",
      "Missing field/result... skipping.\n",
      "Missing field/result... skipping.\n",
      "Missing field/result... skipping.\n",
      "Missing field/result... skipping.\n",
      "Missing field/result... skipping.\n",
      "Missing field/result... skipping.\n",
      "Missing field/result... skipping.\n",
      "Missing field/result... skipping.\n",
      "Missing field/result... skipping.\n",
      "Missing field/result... skipping.\n",
      "Missing field/result... skipping.\n",
      "Missing field/result... skipping.\n",
      "Missing field/result... skipping.\n",
      "Missing field/result... skipping.\n",
      "Missing field/result... skipping.\n",
      "Missing field/result... skipping.\n"
     ]
    }
   ],
   "source": [
    "# Loop through the df \n",
    "for index, row in df.iterrows():\n",
    "    city = row[0]\n",
    "    base_url= \"http://history.openweathermap.org/data/2.5/history/city?\"\n",
    "    query_url = url + \"appid=\" + api_key_weather + \"&q=\" + city\n",
    "    \n",
    "    weather_response = requests.get(query_url)\n",
    "    weather_json = weather_response.json()\n",
    "    \n",
    "    #country = weather_json[\"sys\"][\"country\"]\n",
    "    #date = weather_json[\"dt\"]\n",
    "    #humidity = weather_json[\"main\"][\"humidity\"]\n",
    "    #lat = weather_json[\"coord\"][\"lat\"]\n",
    "    #lng = weather_json[\"coord\"][\"lon\"]\n",
    "    #max_temp = weather_json[\"main\"][\"temp_max\"]\n",
    "    #cloudiness = weather_json[\"clouds\"][\"all\"]\n",
    "    #wind_speed = weather_json[\"wind\"][\"speed\"]\n",
    "    \n",
    "    try:\n",
    "        df.loc[index, \"Cloudiness\"] = weather_json[\"clouds\"][\"all\"]\n",
    "        df.loc[index, \"Country\"] = weather_json[\"sys\"][\"country\"]\n",
    "        df.loc[index, \"Date\"] = weather_json[\"dt\"]\n",
    "        df.loc[index, \"Humidity\"] = weather_json[\"main\"][\"humidity\"]\n",
    "        df.loc[index, \"Lat\"] = weather_json[\"coord\"][\"lat\"]\n",
    "        df.loc[index, \"Lng\"] = weather_json[\"coord\"][\"lon\"]\n",
    "        df.loc[index, \"Max Temp\"] = weather_json[\"clouds\"][\"all\"]\n",
    "        df.loc[index, \"Wind Speed\"] = weather_json[\"wind\"][\"speed\"]\n",
    "    except (KeyError, IndexError):\n",
    "        print(\"Missing field/result... skipping.\")"
   ]
  },
  {
   "cell_type": "code",
   "execution_count": 16,
   "metadata": {},
   "outputs": [
    {
     "data": {
      "text/html": [
       "<div>\n",
       "<style scoped>\n",
       "    .dataframe tbody tr th:only-of-type {\n",
       "        vertical-align: middle;\n",
       "    }\n",
       "\n",
       "    .dataframe tbody tr th {\n",
       "        vertical-align: top;\n",
       "    }\n",
       "\n",
       "    .dataframe thead th {\n",
       "        text-align: right;\n",
       "    }\n",
       "</style>\n",
       "<table border=\"1\" class=\"dataframe\">\n",
       "  <thead>\n",
       "    <tr style=\"text-align: right;\">\n",
       "      <th></th>\n",
       "      <th>0</th>\n",
       "      <th>Cloudiness</th>\n",
       "      <th>Country</th>\n",
       "      <th>Date</th>\n",
       "      <th>Humidity</th>\n",
       "      <th>Lat</th>\n",
       "      <th>Lng</th>\n",
       "      <th>Max Temp</th>\n",
       "      <th>Wind Speed</th>\n",
       "    </tr>\n",
       "  </thead>\n",
       "  <tbody>\n",
       "    <tr>\n",
       "      <th>0</th>\n",
       "      <td>zhanaozen</td>\n",
       "      <td>0</td>\n",
       "      <td>KZ</td>\n",
       "      <td>1553320762</td>\n",
       "      <td>74</td>\n",
       "      <td>43.35</td>\n",
       "      <td>52.85</td>\n",
       "      <td>0</td>\n",
       "      <td>1.97</td>\n",
       "    </tr>\n",
       "    <tr>\n",
       "      <th>1</th>\n",
       "      <td>san jose</td>\n",
       "      <td>0</td>\n",
       "      <td>PH</td>\n",
       "      <td>1553320613</td>\n",
       "      <td>50</td>\n",
       "      <td>15.79</td>\n",
       "      <td>120.99</td>\n",
       "      <td>0</td>\n",
       "      <td>1.42</td>\n",
       "    </tr>\n",
       "    <tr>\n",
       "      <th>2</th>\n",
       "      <td>ambilobe</td>\n",
       "      <td>0</td>\n",
       "      <td>MG</td>\n",
       "      <td>1553320763</td>\n",
       "      <td>100</td>\n",
       "      <td>-13.19</td>\n",
       "      <td>49.05</td>\n",
       "      <td>0</td>\n",
       "      <td>1.42</td>\n",
       "    </tr>\n",
       "    <tr>\n",
       "      <th>3</th>\n",
       "      <td>albany</td>\n",
       "      <td>90</td>\n",
       "      <td>US</td>\n",
       "      <td>1553320743</td>\n",
       "      <td>79</td>\n",
       "      <td>42.65</td>\n",
       "      <td>-73.75</td>\n",
       "      <td>90</td>\n",
       "      <td>11.8</td>\n",
       "    </tr>\n",
       "    <tr>\n",
       "      <th>4</th>\n",
       "      <td>saint george</td>\n",
       "      <td>0</td>\n",
       "      <td>GR</td>\n",
       "      <td>1553320402</td>\n",
       "      <td>87</td>\n",
       "      <td>39.45</td>\n",
       "      <td>22.34</td>\n",
       "      <td>0</td>\n",
       "      <td>3.1</td>\n",
       "    </tr>\n",
       "  </tbody>\n",
       "</table>\n",
       "</div>"
      ],
      "text/plain": [
       "              0 Cloudiness Country        Date Humidity    Lat     Lng  \\\n",
       "0     zhanaozen          0      KZ  1553320762       74  43.35   52.85   \n",
       "1      san jose          0      PH  1553320613       50  15.79  120.99   \n",
       "2      ambilobe          0      MG  1553320763      100 -13.19   49.05   \n",
       "3        albany         90      US  1553320743       79  42.65  -73.75   \n",
       "4  saint george          0      GR  1553320402       87  39.45   22.34   \n",
       "\n",
       "  Max Temp Wind Speed  \n",
       "0        0       1.97  \n",
       "1        0       1.42  \n",
       "2        0       1.42  \n",
       "3       90       11.8  \n",
       "4        0        3.1  "
      ]
     },
     "execution_count": 16,
     "metadata": {},
     "output_type": "execute_result"
    }
   ],
   "source": [
    "df.head()"
   ]
  },
  {
   "cell_type": "code",
   "execution_count": null,
   "metadata": {},
   "outputs": [],
   "source": []
  }
 ],
 "metadata": {
  "kernelspec": {
   "display_name": "Python 3",
   "language": "python",
   "name": "python3"
  },
  "language_info": {
   "codemirror_mode": {
    "name": "ipython",
    "version": 3
   },
   "file_extension": ".py",
   "mimetype": "text/x-python",
   "name": "python",
   "nbconvert_exporter": "python",
   "pygments_lexer": "ipython3",
   "version": "3.7.1"
  }
 },
 "nbformat": 4,
 "nbformat_minor": 2
}
